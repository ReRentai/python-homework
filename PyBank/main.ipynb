{
 "cells": [
  {
   "cell_type": "code",
   "execution_count": 198,
   "metadata": {},
   "outputs": [],
   "source": [
    "import pandas as pd\n",
    "import csv\n",
    "from pathlib import Path"
   ]
  },
  {
   "cell_type": "code",
   "execution_count": 216,
   "metadata": {},
   "outputs": [
    {
     "data": {
      "text/html": [
       "<div>\n",
       "<style scoped>\n",
       "    .dataframe tbody tr th:only-of-type {\n",
       "        vertical-align: middle;\n",
       "    }\n",
       "\n",
       "    .dataframe tbody tr th {\n",
       "        vertical-align: top;\n",
       "    }\n",
       "\n",
       "    .dataframe thead th {\n",
       "        text-align: right;\n",
       "    }\n",
       "</style>\n",
       "<table border=\"1\" class=\"dataframe\">\n",
       "  <thead>\n",
       "    <tr style=\"text-align: right;\">\n",
       "      <th></th>\n",
       "      <th>Date</th>\n",
       "      <th>Profit/Losses</th>\n",
       "    </tr>\n",
       "  </thead>\n",
       "  <tbody>\n",
       "    <tr>\n",
       "      <th>0</th>\n",
       "      <td>Jan-2010</td>\n",
       "      <td>867884</td>\n",
       "    </tr>\n",
       "    <tr>\n",
       "      <th>1</th>\n",
       "      <td>Feb-2010</td>\n",
       "      <td>984655</td>\n",
       "    </tr>\n",
       "    <tr>\n",
       "      <th>2</th>\n",
       "      <td>Mar-2010</td>\n",
       "      <td>322013</td>\n",
       "    </tr>\n",
       "    <tr>\n",
       "      <th>3</th>\n",
       "      <td>Apr-2010</td>\n",
       "      <td>-69417</td>\n",
       "    </tr>\n",
       "    <tr>\n",
       "      <th>4</th>\n",
       "      <td>May-2010</td>\n",
       "      <td>310503</td>\n",
       "    </tr>\n",
       "  </tbody>\n",
       "</table>\n",
       "</div>"
      ],
      "text/plain": [
       "       Date  Profit/Losses\n",
       "0  Jan-2010         867884\n",
       "1  Feb-2010         984655\n",
       "2  Mar-2010         322013\n",
       "3  Apr-2010         -69417\n",
       "4  May-2010         310503"
      ]
     },
     "execution_count": 216,
     "metadata": {},
     "output_type": "execute_result"
    }
   ],
   "source": [
    "budget_csv = Path(\"Resources/budget_data.csv\")\n",
    "df_budget = pd.read_csv(budget_csv)\n",
    "df_budget.head()"
   ]
  },
  {
   "cell_type": "code",
   "execution_count": 217,
   "metadata": {},
   "outputs": [],
   "source": [
    "#initializing whatever things i am using in this code\n",
    "profit_list = []\n",
    "change_list = []\n",
    "month_list = []\n",
    "line_num = 0\n",
    "total = 0\n",
    "total_month = 0\n",
    "average_change = 0\n",
    "profit_change = 0"
   ]
  },
  {
   "cell_type": "code",
   "execution_count": 218,
   "metadata": {},
   "outputs": [],
   "source": [
    "#finding the csv file\n",
    "with open(budget_csv, 'r') as csvfile:\n",
    "    \n",
    "    csvreader = csv.reader(csvfile, delimiter=',')\n",
    "    header = next(csvreader)\n",
    "    line_num += 1\n",
    "\n",
    "    for row in csvreader:\n",
    "        profit = int(row[1])\n",
    "        profit_list.append(profit)\n",
    "        month = row[0]\n",
    "        month_list.append(month)"
   ]
  },
  {
   "cell_type": "code",
   "execution_count": 219,
   "metadata": {},
   "outputs": [],
   "source": [
    "#solving for the first two which is simple\n",
    "for profit in profit_list:\n",
    "    total += profit\n",
    "    total_month += 1"
   ]
  },
  {
   "cell_type": "code",
   "execution_count": 220,
   "metadata": {},
   "outputs": [],
   "source": [
    "yesterdays_profit = 0\n",
    "change_sum = 0\n",
    "#this thing right here is doing some sort of magic. idk but lik i wanna find chnage which can be done\n",
    "for profit in profit_list:\n",
    "    #refers to how to find change change is equal to profit - yesterday which wus initialized as 0 \n",
    "    change = profit - yesterdays_profit\n",
    "    #store change\n",
    "    change_list.append(change)\n",
    "    #we now call this an epic move i am jus say this one is to store yesterday profit as profit cause after one loop we now know it is yesterday\n",
    "    yesterdays_profit = profit\n",
    "    #i found sum of change so i can take average\n",
    "    change_sum += change\n",
    "#this is to subtract the sum from the first objext since it rlly isnt a change since it is it's base\n",
    "change_sum -= change_list[0]\n",
    "#total month is subtracted by 1 cause again first month doesnt count since it base\n",
    "average_change = round(change_sum/(total_month-1), 2)   "
   ]
  },
  {
   "cell_type": "code",
   "execution_count": 221,
   "metadata": {},
   "outputs": [],
   "source": [
    "#initializing everything\n",
    "greatest_increase = 0\n",
    "greatest_increase_index = 0\n",
    "greatest_decrease = 0\n",
    "greatest_decrease_index = 0\n",
    "current_month_index = 0\n",
    "#im looking into change list\n",
    "for change in change_list:\n",
    "    #now im confirming which one is min and max\n",
    "    if change > greatest_increase:\n",
    "        greatest_increase = change\n",
    "        #I want to just say current month is to increase because of if\n",
    "        greatest_increase_index = current_month_index\n",
    "    #refer to the if statement\n",
    "    elif change < greatest_decrease:\n",
    "        greatest_decrease = change\n",
    "        greatest_decrease_index = current_month_index\n",
    "    #this keeps counting so that the if statement runs it will update at point of which the current month index is at\n",
    "    current_month_index += 1\n",
    "#it is looking at the month list and just appending at point of greatest index so that we can print out the date\n",
    "greatest_increase_month = month_list[greatest_increase_index]\n",
    "greatest_decrease_month = month_list[greatest_decrease_index]"
   ]
  },
  {
   "cell_type": "code",
   "execution_count": 222,
   "metadata": {},
   "outputs": [
    {
     "name": "stdout",
     "output_type": "stream",
     "text": [
      "Financial Analysis\n",
      "----------------------------\n",
      "Total Months: 86\n",
      "Total: $38382578\n",
      "Average Change: $-2315.12\n",
      "Greatest Change in Profits: Feb-2012 ($1926159)\n",
      "Greatest Decrease in Profits: Sep-2013 ($-2196167)\n"
     ]
    }
   ],
   "source": [
    "#its printing\n",
    "print(\"Financial Analysis\")\n",
    "print(\"----------------------------\")\n",
    "print(f\"Total Months: {total_month}\")\n",
    "print(f\"Total: ${total}\")\n",
    "print(f\"Average Change: ${average_change}\")\n",
    "print(f\"Greatest Change in Profits: {greatest_increase_month} (${greatest_increase})\")\n",
    "print(f\"Greatest Decrease in Profits: {greatest_decrease_month} (${greatest_decrease})\")"
   ]
  },
  {
   "cell_type": "code",
   "execution_count": 223,
   "metadata": {},
   "outputs": [
    {
     "data": {
      "text/plain": [
       "50"
      ]
     },
     "execution_count": 223,
     "metadata": {},
     "output_type": "execute_result"
    }
   ],
   "source": [
    "#its outputting\n",
    "output = open(\"output.txt\",\"w+\")\n",
    "output.write(\"Financial Analysis\")\n",
    "output.write(\"----------------------------\")\n",
    "output.write(f\"Total Months: {total_month}\")\n",
    "output.write(f\"Total: ${total}\")\n",
    "output.write(f\"Average Change: ${average_change}\")\n",
    "output.write(f\"Greatest Change in Profits: {greatest_increase_month} (${greatest_increase})\")\n",
    "output.write(f\"Greatest Decrease in Profits: {greatest_decrease_month} (${greatest_decrease})\")"
   ]
  },
  {
   "cell_type": "code",
   "execution_count": null,
   "metadata": {},
   "outputs": [],
   "source": []
  },
  {
   "cell_type": "code",
   "execution_count": null,
   "metadata": {},
   "outputs": [],
   "source": []
  }
 ],
 "metadata": {
  "kernelspec": {
   "display_name": "Python 3",
   "language": "python",
   "name": "python3"
  },
  "language_info": {
   "codemirror_mode": {
    "name": "ipython",
    "version": 3
   },
   "file_extension": ".py",
   "mimetype": "text/x-python",
   "name": "python",
   "nbconvert_exporter": "python",
   "pygments_lexer": "ipython3",
   "version": "3.8.5"
  }
 },
 "nbformat": 4,
 "nbformat_minor": 4
}
